{
 "cells": [
  {
   "cell_type": "markdown",
   "metadata": {},
   "source": [
    "# Assignment 3"
   ]
  },
  {
   "cell_type": "markdown",
   "metadata": {},
   "source": [
    "### Write a function to count the number 4 in a given list."
   ]
  },
  {
   "cell_type": "code",
   "execution_count": 2,
   "metadata": {},
   "outputs": [
    {
     "name": "stdout",
     "output_type": "stream",
     "text": [
      "4\n"
     ]
    }
   ],
   "source": [
    "def Count(lst):\n",
    "    counter = 0\n",
    "    for num in lst:\n",
    "        if num == 4:\n",
    "            counter += 1\n",
    "    return counter\n",
    "   \n",
    "### Example\n",
    "lst = [4,5,3,6,4,4,8,9,4]\n",
    "print(Count(lst))"
   ]
  },
  {
   "cell_type": "markdown",
   "metadata": {},
   "source": [
    "### write a  function to check whether a number is divisible by another number."
   ]
  },
  {
   "cell_type": "code",
   "execution_count": 5,
   "metadata": {},
   "outputs": [
    {
     "name": "stdout",
     "output_type": "stream",
     "text": [
      "the number 25 is divsible by number 5\n"
     ]
    }
   ],
   "source": [
    "def Num_div(Num1,Num2):\n",
    "    if Num1 % Num2 == 0:\n",
    "        print(\"the number\", Num1, \"is divsible by number\", Num2)\n",
    "\n",
    "##### Example\n",
    "Num1 = 25\n",
    "Num2 = 5\n",
    "Num_div(Num1,Num2)"
   ]
  },
  {
   "cell_type": "markdown",
   "metadata": {},
   "source": [
    "### write a function to find the maximum and minimum numbers from a sequence of numbers."
   ]
  },
  {
   "cell_type": "code",
   "execution_count": 7,
   "metadata": {},
   "outputs": [
    {
     "name": "stdout",
     "output_type": "stream",
     "text": [
      "(34, -4)\n"
     ]
    }
   ],
   "source": [
    "def Max_Min(sequence):\n",
    "    Max = max(sequence)\n",
    "    Min = min(sequence)\n",
    "    return(Max,Min)\n",
    "\n",
    "sequence = [9, 34, 11, -4, 27]\n",
    "print(Max_Min(sequence))"
   ]
  },
  {
   "cell_type": "markdown",
   "metadata": {},
   "source": [
    "### Write a Python function that takes two lists and returns True if they have at least one common member."
   ]
  },
  {
   "cell_type": "code",
   "execution_count": 12,
   "metadata": {},
   "outputs": [
    {
     "name": "stdout",
     "output_type": "stream",
     "text": [
      "True\n"
     ]
    }
   ],
   "source": [
    "def Comp_lst(lst1,lst2):\n",
    "    for member1 in lst1:\n",
    "        for member2 in lst2:\n",
    "            if member1 == member2:\n",
    "                print('True')\n",
    "                break\n",
    "###### Example\n",
    "lst1 = [1, 5 , 7, 10, 'h']\n",
    "lst2 = [4, 6, 11, 12, 20 , 'h']\n",
    "Comp_lst(lst1,lst2)"
   ]
  },
  {
   "cell_type": "markdown",
   "metadata": {},
   "source": [
    "### Write a Python function to calculate the factorial of a number (a non-negative integer). The function accepts the number from the user"
   ]
  },
  {
   "cell_type": "code",
   "execution_count": 5,
   "metadata": {},
   "outputs": [
    {
     "name": "stdout",
     "output_type": "stream",
     "text": [
      "Enter a non-negative integer => -1\n"
     ]
    },
    {
     "data": {
      "text/plain": [
       "'Please enter a non-negative number'"
      ]
     },
     "execution_count": 5,
     "metadata": {},
     "output_type": "execute_result"
    }
   ],
   "source": [
    "def factorial(Num):\n",
    "    if Num == 1 or Num == 0:\n",
    "        return 1\n",
    "    elif Num < 0:\n",
    "        return (\"Please enter a non-negative number\")\n",
    "    else:\n",
    "        return (Num * factorial(Num-1))\n",
    "    \n",
    "get_Num = int(input(\"Enter a non-negative integer => \"))\n",
    "factorial(get_Num)"
   ]
  },
  {
   "cell_type": "markdown",
   "metadata": {},
   "source": [
    "### Write a Python function to check whether a number is in a given range.\n",
    "\n",
    "### The range is from 3 to 11\n"
   ]
  },
  {
   "cell_type": "code",
   "execution_count": 17,
   "metadata": {},
   "outputs": [
    {
     "name": "stdout",
     "output_type": "stream",
     "text": [
      "The number is outside the range\n"
     ]
    }
   ],
   "source": [
    "def Check_Num(Num):\n",
    "    if Num in range(2,12):\n",
    "        print(\"The number is inside the range\")\n",
    "    else:\n",
    "        print(\"The number is outside the range\")\n",
    "\n",
    "##### Example\n",
    "Check_Num(20)"
   ]
  },
  {
   "cell_type": "markdown",
   "metadata": {},
   "source": [
    "### Write a  program to create the multiplication table (from 1 to 10) of a number."
   ]
  },
  {
   "cell_type": "code",
   "execution_count": 10,
   "metadata": {},
   "outputs": [
    {
     "name": "stdout",
     "output_type": "stream",
     "text": [
      "[5, 10, 15, 20, 25, 30, 35, 40, 45, 50]\n"
     ]
    }
   ],
   "source": [
    "def Multp_table(Num):\n",
    "    Num_table = []\n",
    "    for i in range(1,11):\n",
    "        Num_table.append(i*Num)\n",
    "    return (Num_table)\n",
    "##### Example\n",
    "Num = 5\n",
    "print(Multp_table(Num))"
   ]
  },
  {
   "cell_type": "markdown",
   "metadata": {},
   "source": [
    "#### LESSER OF TWO EVENS: Write a function that returns the lesser of two given numbers *if* both numbers are even, but returns the greater if one or both numbers are odd\n",
    "    lesser_of_two_evens(2,4) --> 2\n",
    "    lesser_of_two_evens(2,5) --> 5"
   ]
  },
  {
   "cell_type": "code",
   "execution_count": 23,
   "metadata": {},
   "outputs": [
    {
     "name": "stdout",
     "output_type": "stream",
     "text": [
      "10\n"
     ]
    }
   ],
   "source": [
    "def LESSER_OF_TWO_EVENS(Num1,Num2):\n",
    "    if Num1 % 2 == 0 and Num2 % 2 == 0:\n",
    "        return(min(Num1,Num2))\n",
    "    else:\n",
    "        return(max(Num1,Num2))\n",
    "    \n",
    "print(LESSER_OF_TWO_EVENS(10,12))"
   ]
  },
  {
   "cell_type": "markdown",
   "metadata": {},
   "source": [
    "#### ANIMAL CRACKERS: Write a function takes a two-word string and returns True if both words begin with same letter\n",
    "    animal_crackers('Levelheaded Llama') --> True\n",
    "    animal_crackers('Crazy Kangaroo') --> False"
   ]
  },
  {
   "cell_type": "code",
   "execution_count": 25,
   "metadata": {},
   "outputs": [
    {
     "name": "stdout",
     "output_type": "stream",
     "text": [
      "False\n"
     ]
    }
   ],
   "source": [
    "def animal_crackers(Word):\n",
    "    word_sp = Word.split()\n",
    "    if word_sp[0][0] == word_sp[1][0]:\n",
    "        return True\n",
    "    else: return False\n",
    "    \n",
    "print(animal_crackers('Crazy Kangaroo'))"
   ]
  },
  {
   "cell_type": "markdown",
   "metadata": {},
   "source": [
    "#### MAKES TWENTY: Given two integers, return True if the sum of the integers is 20 *or* if one of the integers is 20. If not, return False\n",
    "\n",
    "    makes_twenty(20,10) --> True\n",
    "    makes_twenty(12,8) --> True\n",
    "    makes_twenty(2,3) --> False"
   ]
  },
  {
   "cell_type": "code",
   "execution_count": 29,
   "metadata": {},
   "outputs": [
    {
     "name": "stdout",
     "output_type": "stream",
     "text": [
      "True\n"
     ]
    }
   ],
   "source": [
    "def makes_twenty(Num1,Num2):\n",
    "    if Num1 == 20 or Num2 == 20:\n",
    "        return True\n",
    "    elif Num1 + Num2 == 20:\n",
    "        return True\n",
    "    else:\n",
    "        return False\n",
    "\n",
    "print(makes_twenty(12,8))"
   ]
  },
  {
   "cell_type": "markdown",
   "metadata": {},
   "source": [
    "#### ALMOST THERE: Given an integer n, return True if n is within 10 of either 100 or 200\n",
    "\n",
    "    almost_there(90) --> True\n",
    "    almost_there(104) --> True\n",
    "    almost_there(150) --> False\n",
    "    almost_there(209) --> True\n",
    "    \n",
    "NOTE: `abs(num)` returns the absolute value of a number"
   ]
  },
  {
   "cell_type": "code",
   "execution_count": 35,
   "metadata": {},
   "outputs": [
    {
     "name": "stdout",
     "output_type": "stream",
     "text": [
      "True\n"
     ]
    }
   ],
   "source": [
    "def almost_there(Num):\n",
    "    if abs(Num-100) <= 10 or abs(Num-200) <= 10:\n",
    "        return True\n",
    "    else:\n",
    "        return False\n",
    "    \n",
    "print(almost_there(190))"
   ]
  },
  {
   "cell_type": "markdown",
   "metadata": {},
   "source": [
    "#### BLACKJACK: Given three integers between 1 and 11, if their sum is less than or equal to 21, return their sum. If their sum exceeds 21 *and* there's an eleven, reduce the total sum by 10. Finally, if the sum  exceeds 21, return 'BUST'\n",
    "    blackjack(5,6,7) --> 18\n",
    "    blackjack(9,9,9) --> 'BUST'\n",
    "    blackjack(9,9,11) --> 19"
   ]
  },
  {
   "cell_type": "code",
   "execution_count": 44,
   "metadata": {},
   "outputs": [
    {
     "name": "stdout",
     "output_type": "stream",
     "text": [
      "19\n"
     ]
    }
   ],
   "source": [
    "def blackjack(Num1,Num2,Num3):\n",
    "    summ = Num1+Num2+Num3\n",
    "    if summ <= 21:\n",
    "        return (summ)\n",
    "    elif summ > 21 and 11 in [Num1,Num2,Num3]:\n",
    "        return (summ - 10)\n",
    "    elif summ > 21:\n",
    "        return('BUST')\n",
    "    \n",
    "print(blackjack(9,9,11))"
   ]
  }
 ],
 "metadata": {
  "kernelspec": {
   "display_name": "Python 3 (ipykernel)",
   "language": "python",
   "name": "python3"
  },
  "language_info": {
   "codemirror_mode": {
    "name": "ipython",
    "version": 3
   },
   "file_extension": ".py",
   "mimetype": "text/x-python",
   "name": "python",
   "nbconvert_exporter": "python",
   "pygments_lexer": "ipython3",
   "version": "3.9.7"
  }
 },
 "nbformat": 4,
 "nbformat_minor": 2
}
